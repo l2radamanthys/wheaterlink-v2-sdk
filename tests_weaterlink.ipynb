{
 "cells": [
  {
   "cell_type": "code",
   "execution_count": 17,
   "id": "bbe4e7be",
   "metadata": {},
   "outputs": [],
   "source": [
    "import requests\n",
    "from weatherlink_v2_api_sdk.signature.signature_calculator import SignatureCalculator\n",
    "import datetime\n",
    "from dotenv import load_dotenv\n",
    "import os\n",
    "import math"
   ]
  },
  {
   "cell_type": "code",
   "execution_count": 2,
   "id": "179264ab",
   "metadata": {},
   "outputs": [
    {
     "data": {
      "text/plain": [
       "True"
      ]
     },
     "execution_count": 2,
     "metadata": {},
     "output_type": "execute_result"
    }
   ],
   "source": [
    "load_dotenv()"
   ]
  },
  {
   "cell_type": "code",
   "execution_count": 15,
   "id": "cf868562",
   "metadata": {},
   "outputs": [],
   "source": [
    "api_url = \"https://api.weatherlink.com/v2/\"\n",
    "api_key = os.environ.get(\"WEATERLINK_API_KEY_V2\")\n",
    "api_secret = os.environ.get(\"WEATERLINK_API_SECRET\")"
   ]
  },
  {
   "cell_type": "code",
   "execution_count": 25,
   "id": "c4c0eed1",
   "metadata": {},
   "outputs": [
    {
     "data": {
      "text/plain": [
       "<weatherlink_v2_api_sdk.signature.signature_calculator.SignatureCalculator at 0x7f737e252d60>"
      ]
     },
     "execution_count": 25,
     "metadata": {},
     "output_type": "execute_result"
    }
   ],
   "source": [
    "sc = SignatureCalculator()\n",
    "sc"
   ]
  },
  {
   "cell_type": "code",
   "execution_count": 29,
   "id": "42a2f612",
   "metadata": {},
   "outputs": [
    {
     "data": {
      "text/plain": [
       "'78871ffad072b08a236902ca975ca3e68089e1c43551f8889724a1946ddc641b'"
      ]
     },
     "execution_count": 29,
     "metadata": {},
     "output_type": "execute_result"
    }
   ],
   "source": [
    "now = datetime.datetime.now()\n",
    "ts = math.trunc(now.timestamp())\n",
    "signature = sc.calculate_stations_signature(api_key, api_secret, ts)\n",
    "signature"
   ]
  },
  {
   "cell_type": "code",
   "execution_count": 27,
   "id": "139ea6af",
   "metadata": {},
   "outputs": [
    {
     "data": {
      "text/plain": [
       "200"
      ]
     },
     "execution_count": 27,
     "metadata": {},
     "output_type": "execute_result"
    }
   ],
   "source": [
    "url = f\"{api_url}stations\"\n",
    "query_params = {\n",
    "    \"api-key\": api_key,\n",
    "    \"api-signature\": signature,\n",
    "    \"t\": ts\n",
    "}\n",
    "response = requests.get(url, params=query_params)\n",
    "response.status_code"
   ]
  },
  {
   "cell_type": "code",
   "execution_count": 28,
   "id": "df57efcd",
   "metadata": {},
   "outputs": [
    {
     "data": {
      "text/plain": [
       "{'stations': [{'station_id': 129681,\n",
       "   'station_name': 'SSR 01 - Pirquitas',\n",
       "   'gateway_id': 14719701,\n",
       "   'gateway_id_hex': '001D0AE09AD5',\n",
       "   'product_number': '06558',\n",
       "   'username': 'redssrmining',\n",
       "   'user_email': 'redssrmining@gmail.com',\n",
       "   'company_name': '',\n",
       "   'active': True,\n",
       "   'private': False,\n",
       "   'recording_interval': 30,\n",
       "   'firmware_version': '6.0.0',\n",
       "   'registered_date': 1642706541,\n",
       "   'time_zone': 'America/Jujuy',\n",
       "   'city': 'San Salvador de Jujuy',\n",
       "   'region': 'Jujuy',\n",
       "   'country': 'Argentina',\n",
       "   'latitude': -24.21084,\n",
       "   'longitude': -65.29481,\n",
       "   'elevation': 0.0},\n",
       "  {'station_id': 129682,\n",
       "   'station_name': 'SSR 02 - Chinchillas',\n",
       "   'gateway_id': 14719702,\n",
       "   'gateway_id_hex': '001D0AE09AD6',\n",
       "   'product_number': '06558',\n",
       "   'username': 'redssrmining',\n",
       "   'user_email': 'redssrmining@gmail.com',\n",
       "   'company_name': '',\n",
       "   'active': True,\n",
       "   'private': False,\n",
       "   'recording_interval': 30,\n",
       "   'firmware_version': '6.0.0',\n",
       "   'registered_date': 1642706740,\n",
       "   'time_zone': 'America/Jujuy',\n",
       "   'city': 'San Salvador de Jujuy',\n",
       "   'region': 'Jujuy',\n",
       "   'country': 'Argentina',\n",
       "   'latitude': -24.20685,\n",
       "   'longitude': -65.2836,\n",
       "   'elevation': 0.0}],\n",
       " 'generated_at': 1673136296}"
      ]
     },
     "execution_count": 28,
     "metadata": {},
     "output_type": "execute_result"
    }
   ],
   "source": [
    "response.json()"
   ]
  },
  {
   "cell_type": "code",
   "execution_count": 30,
   "id": "2aca3075",
   "metadata": {},
   "outputs": [
    {
     "data": {
      "text/plain": [
       "'4151a45d4b8c35147b8521202163c19b9393a69a2a89b55fc579157c0e615915'"
      ]
     },
     "execution_count": 30,
     "metadata": {},
     "output_type": "execute_result"
    }
   ],
   "source": [
    "now = datetime.datetime.now()\n",
    "ts = math.trunc(now.timestamp())\n",
    "\n",
    "station_id = 129681\n",
    "start_timestamp = now.date()\n",
    "end_timestamp = 1\n",
    "\n",
    "signature = sc.calculate_historic_signature(api_key,api_secret, ts, station_id, start_timestamp, end_timestamp)\n",
    "signature"
   ]
  },
  {
   "cell_type": "code",
   "execution_count": 31,
   "id": "614f7495",
   "metadata": {},
   "outputs": [
    {
     "ename": "AttributeError",
     "evalue": "'datetime.date' object has no attribute 'timestamp'",
     "output_type": "error",
     "traceback": [
      "\u001b[0;31m---------------------------------------------------------------------------\u001b[0m",
      "\u001b[0;31mAttributeError\u001b[0m                            Traceback (most recent call last)",
      "Cell \u001b[0;32mIn[31], line 1\u001b[0m\n\u001b[0;32m----> 1\u001b[0m \u001b[43mnow\u001b[49m\u001b[38;5;241;43m.\u001b[39;49m\u001b[43mdate\u001b[49m\u001b[43m(\u001b[49m\u001b[43m)\u001b[49m\u001b[38;5;241;43m.\u001b[39;49m\u001b[43mtimestamp\u001b[49m()\n",
      "\u001b[0;31mAttributeError\u001b[0m: 'datetime.date' object has no attribute 'timestamp'"
     ]
    }
   ],
   "source": [
    "now.date().timestamp()"
   ]
  },
  {
   "cell_type": "code",
   "execution_count": null,
   "id": "f3e16ce9",
   "metadata": {},
   "outputs": [],
   "source": []
  }
 ],
 "metadata": {
  "kernelspec": {
   "display_name": "Python 3 (ipykernel)",
   "language": "python",
   "name": "python3"
  },
  "language_info": {
   "codemirror_mode": {
    "name": "ipython",
    "version": 3
   },
   "file_extension": ".py",
   "mimetype": "text/x-python",
   "name": "python",
   "nbconvert_exporter": "python",
   "pygments_lexer": "ipython3",
   "version": "3.9.8"
  }
 },
 "nbformat": 4,
 "nbformat_minor": 5
}
