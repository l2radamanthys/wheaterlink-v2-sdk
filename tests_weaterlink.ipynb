{
 "cells": [
  {
   "cell_type": "code",
   "execution_count": 11,
   "id": "bbe4e7be",
   "metadata": {},
   "outputs": [],
   "source": [
    "import requests\n",
    "from weatherlink_v2_api_sdk.signature.signature_calculator import SignatureCalculator\n",
    "import datetime\n",
    "from dotenv import load_dotenv\n",
    "import os\n",
    "import math\n",
    "from dateutil.relativedelta import relativedelta\n"
   ]
  },
  {
   "cell_type": "code",
   "execution_count": 4,
   "id": "179264ab",
   "metadata": {},
   "outputs": [
    {
     "data": {
      "text/plain": [
       "True"
      ]
     },
     "execution_count": 4,
     "metadata": {},
     "output_type": "execute_result"
    }
   ],
   "source": [
    "load_dotenv()"
   ]
  },
  {
   "cell_type": "code",
   "execution_count": 5,
   "id": "cf868562",
   "metadata": {},
   "outputs": [],
   "source": [
    "api_url = \"https://api.weatherlink.com/v2/\"\n",
    "api_key = os.environ.get(\"WEATERLINK_API_KEY_V2\")\n",
    "api_secret = os.environ.get(\"WEATERLINK_API_SECRET\")"
   ]
  },
  {
   "cell_type": "code",
   "execution_count": 6,
   "id": "c4c0eed1",
   "metadata": {},
   "outputs": [
    {
     "data": {
      "text/plain": [
       "<weatherlink_v2_api_sdk.signature.signature_calculator.SignatureCalculator at 0x7f2a8b269eb0>"
      ]
     },
     "execution_count": 6,
     "metadata": {},
     "output_type": "execute_result"
    }
   ],
   "source": [
    "sc = SignatureCalculator()\n",
    "sc"
   ]
  },
  {
   "cell_type": "code",
   "execution_count": 7,
   "id": "42a2f612",
   "metadata": {},
   "outputs": [
    {
     "data": {
      "text/plain": [
       "'8ff8cf167f4ab178dfc5f16ba4d87b0fabfd9f7968ab465319ed384278691cba'"
      ]
     },
     "execution_count": 7,
     "metadata": {},
     "output_type": "execute_result"
    }
   ],
   "source": [
    "now = datetime.datetime.now()\n",
    "ts = math.trunc(now.timestamp())\n",
    "signature = sc.calculate_stations_signature(api_key, api_secret, ts)\n",
    "signature"
   ]
  },
  {
   "cell_type": "code",
   "execution_count": 8,
   "id": "139ea6af",
   "metadata": {},
   "outputs": [
    {
     "data": {
      "text/plain": [
       "200"
      ]
     },
     "execution_count": 8,
     "metadata": {},
     "output_type": "execute_result"
    }
   ],
   "source": [
    "url = f\"{api_url}stations\"\n",
    "query_params = {\n",
    "    \"api-key\": api_key,\n",
    "    \"api-signature\": signature,\n",
    "    \"t\": ts\n",
    "}\n",
    "response = requests.get(url, params=query_params)\n",
    "response.status_code"
   ]
  },
  {
   "cell_type": "code",
   "execution_count": 9,
   "id": "df57efcd",
   "metadata": {},
   "outputs": [
    {
     "data": {
      "text/plain": [
       "{'stations': [{'station_id': 129681,\n",
       "   'station_name': 'SSR 01 - Pirquitas',\n",
       "   'gateway_id': 14719701,\n",
       "   'gateway_id_hex': '001D0AE09AD5',\n",
       "   'product_number': '06558',\n",
       "   'username': 'redssrmining',\n",
       "   'user_email': 'redssrmining@gmail.com',\n",
       "   'company_name': '',\n",
       "   'active': True,\n",
       "   'private': False,\n",
       "   'recording_interval': 30,\n",
       "   'firmware_version': '6.0.0',\n",
       "   'registered_date': 1642706541,\n",
       "   'time_zone': 'America/Jujuy',\n",
       "   'city': 'San Salvador de Jujuy',\n",
       "   'region': 'Jujuy',\n",
       "   'country': 'Argentina',\n",
       "   'latitude': -24.21084,\n",
       "   'longitude': -65.29481,\n",
       "   'elevation': 0.0},\n",
       "  {'station_id': 129682,\n",
       "   'station_name': 'SSR 02 - Chinchillas',\n",
       "   'gateway_id': 14719702,\n",
       "   'gateway_id_hex': '001D0AE09AD6',\n",
       "   'product_number': '06558',\n",
       "   'username': 'redssrmining',\n",
       "   'user_email': 'redssrmining@gmail.com',\n",
       "   'company_name': '',\n",
       "   'active': True,\n",
       "   'private': False,\n",
       "   'recording_interval': 30,\n",
       "   'firmware_version': '6.0.0',\n",
       "   'registered_date': 1642706740,\n",
       "   'time_zone': 'America/Jujuy',\n",
       "   'city': 'San Salvador de Jujuy',\n",
       "   'region': 'Jujuy',\n",
       "   'country': 'Argentina',\n",
       "   'latitude': -24.20685,\n",
       "   'longitude': -65.2836,\n",
       "   'elevation': 0.0}],\n",
       " 'generated_at': 1673281056}"
      ]
     },
     "execution_count": 9,
     "metadata": {},
     "output_type": "execute_result"
    }
   ],
   "source": [
    "response.json()"
   ]
  },
  {
   "cell_type": "code",
   "execution_count": 21,
   "id": "2aca3075",
   "metadata": {},
   "outputs": [
    {
     "data": {
      "text/plain": [
       "'36e3215937a0809bc0c3f9695e78f427e8f8fbb91b405cda937f471a8994ed1b'"
      ]
     },
     "execution_count": 21,
     "metadata": {},
     "output_type": "execute_result"
    }
   ],
   "source": [
    "now = datetime.datetime.now()\n",
    "ts = math.trunc(now.timestamp())\n",
    "\n",
    "station_id = 129681\n",
    "\n",
    "start_timestamp = now.replace(hour=0,minute=0, second=0)\n",
    "start_timestamp = math.trunc(start_timestamp.timestamp())\n",
    "\n",
    "end_timestamp = now + relativedelta(days=1)\n",
    "end_timestamp = math.trunc(end_timestamp.timestamp())\n",
    "\n",
    "signature = sc.calculate_historic_signature(api_key, api_secret, ts, station_id, start_timestamp, end_timestamp)\n",
    "signature"
   ]
  },
  {
   "cell_type": "code",
   "execution_count": 23,
   "id": "83f947fc",
   "metadata": {},
   "outputs": [],
   "source": [
    "def calculate_signature(self, api_secret, parameters_to_hash):\n",
    "    string_to_hash = \"\"\n",
    "    for parameter_name in sorted(parameters_to_hash.keys()):\n",
    "        string_to_hash = string_to_hash + parameter_name + str(parameters_to_hash[parameter_name])\n",
    "    api_signature = hmac.new(api_secret.encode(\"UTF-8\"), string_to_hash.encode(\"UTF-8\"), hashlib.sha256).hexdigest()\n",
    "    return api_signature"
   ]
  },
  {
   "cell_type": "code",
   "execution_count": 22,
   "id": "614f7495",
   "metadata": {},
   "outputs": [
    {
     "data": {
      "text/plain": [
       "401"
      ]
     },
     "execution_count": 22,
     "metadata": {},
     "output_type": "execute_result"
    }
   ],
   "source": [
    "url = f\"{api_url}historic/{station_id}\"\n",
    "query_params = {\n",
    "    \"api-key\": api_key,\n",
    "    \"api-signature\": signature,\n",
    "    \"t\": ts,\n",
    "    \"station-id\": station_id,\n",
    "    \"start-timestamp\": start_timestamp,\n",
    "    \"end-timestamp\": end_timestamp\n",
    "}\n",
    "response = requests.get(url, params=query_params)\n",
    "response.status_code"
   ]
  },
  {
   "cell_type": "code",
   "execution_count": 20,
   "id": "f3e16ce9",
   "metadata": {},
   "outputs": [
    {
     "data": {
      "text/plain": [
       "{'code': '401', 'message': 'Invalid API Signature.'}"
      ]
     },
     "execution_count": 20,
     "metadata": {},
     "output_type": "execute_result"
    }
   ],
   "source": [
    "response.json()"
   ]
  },
  {
   "cell_type": "code",
   "execution_count": null,
   "id": "934ac3c0",
   "metadata": {},
   "outputs": [],
   "source": []
  }
 ],
 "metadata": {
  "kernelspec": {
   "display_name": "Python 3 (ipykernel)",
   "language": "python",
   "name": "python3"
  },
  "language_info": {
   "codemirror_mode": {
    "name": "ipython",
    "version": 3
   },
   "file_extension": ".py",
   "mimetype": "text/x-python",
   "name": "python",
   "nbconvert_exporter": "python",
   "pygments_lexer": "ipython3",
   "version": "3.9.8"
  }
 },
 "nbformat": 4,
 "nbformat_minor": 5
}
